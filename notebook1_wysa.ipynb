{
 "cells": [
  {
   "cell_type": "code",
   "execution_count": 93,
   "metadata": {},
   "outputs": [],
   "source": [
    "import pandas as pd\n",
    "import tensorflow as tf\n",
    "import numpy as np\n",
    "from transformers import AutoModelForSequenceClassification\n",
    "from transformers import TFAutoModelForSequenceClassification\n",
    "from transformers import AutoTokenizer, AutoConfig\n",
    "\n",
    "from scipy.special import softmax\n",
    "from sklearn.metrics import accuracy_score, precision_score, recall_score, f1_score, classification_report\n",
    "from sklearn.model_selection import train_test_split\n",
    "from sklearn.ensemble import RandomForestClassifier\n",
    "import sklearn\n",
    "from sklearn.metrics import confusion_matrix\n",
    "import seaborn as sns\n",
    "import matplotlib.pyplot as plt\n",
    "import requests\n",
    "\n",
    "from tensorflow import keras\n",
    "from tensorflow.keras.optimizers import Adam\n",
    "from tensorflow.keras.layers import Input\n",
    "from tensorflow.keras.models import Model\n",
    "from tensorflow.keras.losses import SparseCategoricalCrossentropy\n",
    "from transformers import BertTokenizer, TFBertForSequenceClassification\n",
    "from tqdm import tqdm\n",
    "import pickle\n",
    "from tensorflow.keras.callbacks import ModelCheckpoint, EarlyStopping\n",
    "from tensorflow.keras.losses import CategoricalCrossentropy\n",
    "from tensorflow.keras import Input, Model"
   ]
  },
  {
   "cell_type": "code",
   "execution_count": 2,
   "metadata": {},
   "outputs": [],
   "source": [
    "# Excel file\n",
    "excel_file_path = \"/home/narayana.mayya@sapt.local/projects/Antoine_coefficient_modelling/wysa/ML Assignment Dataset.xlsx\"\n",
    "\n",
    "# Read all sheets into a dictionary of DataFrames\n",
    "dfs = pd.read_excel(excel_file_path, sheet_name=None)\n",
    "\n",
    "#Sheet Names: ['Dataset Card', 'Train', 'Test']\n",
    "df_train = dfs['Train']\n",
    "df_test = dfs['Test']"
   ]
  },
  {
   "cell_type": "code",
   "execution_count": 3,
   "metadata": {},
   "outputs": [
    {
     "name": "stdout",
     "output_type": "stream",
     "text": [
      "Train shape: (8589, 3)\n",
      "Test shape: (504, 1)\n"
     ]
    }
   ],
   "source": [
    "print(\"Train shape:\",df_train.shape)\n",
    "print(\"Test shape:\",df_test.shape)"
   ]
  },
  {
   "cell_type": "code",
   "execution_count": 4,
   "metadata": {},
   "outputs": [
    {
     "data": {
      "text/plain": [
       "Index(['tweet_text', 'emotion_in_tweet_is_directed_at',\n",
       "       'is_there_an_emotion_directed_at_a_brand_or_product'],\n",
       "      dtype='object')"
      ]
     },
     "execution_count": 4,
     "metadata": {},
     "output_type": "execute_result"
    }
   ],
   "source": [
    "df_train.columns"
   ]
  },
  {
   "cell_type": "code",
   "execution_count": 5,
   "metadata": {},
   "outputs": [
    {
     "data": {
      "text/plain": [
       "iPad                               946\n",
       "Apple                              661\n",
       "iPad or iPhone App                 470\n",
       "Google                             430\n",
       "iPhone                             297\n",
       "Other Google product or service    293\n",
       "Android App                         81\n",
       "Android                             78\n",
       "Other Apple product or service      35\n",
       "Name: emotion_in_tweet_is_directed_at, dtype: int64"
      ]
     },
     "execution_count": 5,
     "metadata": {},
     "output_type": "execute_result"
    }
   ],
   "source": [
    "df_train['emotion_in_tweet_is_directed_at'].value_counts()"
   ]
  },
  {
   "cell_type": "code",
   "execution_count": 7,
   "metadata": {},
   "outputs": [
    {
     "data": {
      "text/plain": [
       "No emotion toward brand or product    5389\n",
       "Positive emotion                      2672\n",
       "Negative emotion                       519\n",
       "I can't tell                             9\n",
       "Name: is_there_an_emotion_directed_at_a_brand_or_product, dtype: int64"
      ]
     },
     "execution_count": 7,
     "metadata": {},
     "output_type": "execute_result"
    }
   ],
   "source": [
    "df_train['is_there_an_emotion_directed_at_a_brand_or_product'].value_counts()"
   ]
  },
  {
   "cell_type": "code",
   "execution_count": 8,
   "metadata": {},
   "outputs": [
    {
     "name": "stdout",
     "output_type": "stream",
     "text": [
      "<class 'pandas.core.frame.DataFrame'>\n",
      "RangeIndex: 8589 entries, 0 to 8588\n",
      "Data columns (total 3 columns):\n",
      " #   Column                                              Non-Null Count  Dtype \n",
      "---  ------                                              --------------  ----- \n",
      " 0   tweet_text                                          8588 non-null   object\n",
      " 1   emotion_in_tweet_is_directed_at                     3291 non-null   object\n",
      " 2   is_there_an_emotion_directed_at_a_brand_or_product  8589 non-null   object\n",
      "dtypes: object(3)\n",
      "memory usage: 201.4+ KB\n"
     ]
    }
   ],
   "source": [
    "df_train.info()"
   ]
  },
  {
   "cell_type": "code",
   "execution_count": 23,
   "metadata": {},
   "outputs": [
    {
     "name": "stdout",
     "output_type": "stream",
     "text": [
      "<class 'pandas.core.frame.DataFrame'>\n",
      "RangeIndex: 504 entries, 0 to 503\n",
      "Data columns (total 1 columns):\n",
      " #   Column  Non-Null Count  Dtype \n",
      "---  ------  --------------  ----- \n",
      " 0   Tweet   504 non-null    object\n",
      "dtypes: object(1)\n",
      "memory usage: 4.1+ KB\n"
     ]
    }
   ],
   "source": [
    "df_test.info()"
   ]
  },
  {
   "cell_type": "code",
   "execution_count": 9,
   "metadata": {},
   "outputs": [],
   "source": [
    "# 'I can't tell' label has only 9 points. either drop it or find more points. dropping it here.\n",
    "df_train_fil = df_train[~(df_train['is_there_an_emotion_directed_at_a_brand_or_product'] == \"I can't tell\")]"
   ]
  },
  {
   "cell_type": "code",
   "execution_count": 10,
   "metadata": {},
   "outputs": [
    {
     "data": {
      "text/plain": [
       "(8580, 3)"
      ]
     },
     "execution_count": 10,
     "metadata": {},
     "output_type": "execute_result"
    }
   ],
   "source": [
    "df_train_fil.shape"
   ]
  },
  {
   "cell_type": "code",
   "execution_count": 12,
   "metadata": {},
   "outputs": [],
   "source": [
    "df_train_fil_sent = df_train_fil[['tweet_text','is_there_an_emotion_directed_at_a_brand_or_product']]"
   ]
  },
  {
   "cell_type": "code",
   "execution_count": 13,
   "metadata": {},
   "outputs": [],
   "source": [
    "df_train_fil_sent_dropn = df_train_fil_sent.dropna()"
   ]
  },
  {
   "cell_type": "code",
   "execution_count": 14,
   "metadata": {},
   "outputs": [
    {
     "data": {
      "text/plain": [
       "(8579, 2)"
      ]
     },
     "execution_count": 14,
     "metadata": {},
     "output_type": "execute_result"
    }
   ],
   "source": [
    "# FINAL train count for sentiments\n",
    "df_train_fil_sent_dropn.shape"
   ]
  },
  {
   "attachments": {},
   "cell_type": "markdown",
   "metadata": {},
   "source": [
    "### EDA"
   ]
  },
  {
   "attachments": {},
   "cell_type": "markdown",
   "metadata": {},
   "source": [
    "#Perform Exploratory Data Analysis (EDA) on the dataset and report your findings about any observations or patterns.\n",
    "- some labelling is ambiguous. making it more accurate will improve the final test report."
   ]
  },
  {
   "attachments": {},
   "cell_type": "markdown",
   "metadata": {},
   "source": [
    "#Take any liberty to augment the dataset and fine-tune a pre-trained transformer model to predict the emotion and/or the product the emotion is targeted towards,\n",
    "- the pretrained model is already trained on large amount of data for sentiment analysis.\n"
   ]
  },
  {
   "attachments": {},
   "cell_type": "markdown",
   "metadata": {},
   "source": [
    "### Sentiment model"
   ]
  },
  {
   "cell_type": "code",
   "execution_count": 15,
   "metadata": {},
   "outputs": [],
   "source": [
    "# Preprocess text (username and link placeholders)\n",
    "def preprocess(text):\n",
    "    new_text = []\n",
    "    for t in text.split(\" \"):\n",
    "        t = '@user' if t.startswith('@') and len(t) > 1 else t\n",
    "        t = 'http' if t.startswith('http') else t\n",
    "        new_text.append(t)\n",
    "    return \" \".join(new_text)"
   ]
  },
  {
   "cell_type": "code",
   "execution_count": 36,
   "metadata": {},
   "outputs": [
    {
     "name": "stderr",
     "output_type": "stream",
     "text": [
      "Some weights of the model checkpoint at cardiffnlp/twitter-roberta-base-sentiment-latest were not used when initializing RobertaForSequenceClassification: ['roberta.pooler.dense.weight', 'roberta.pooler.dense.bias']\n",
      "- This IS expected if you are initializing RobertaForSequenceClassification from the checkpoint of a model trained on another task or with another architecture (e.g. initializing a BertForSequenceClassification model from a BertForPreTraining model).\n",
      "- This IS NOT expected if you are initializing RobertaForSequenceClassification from the checkpoint of a model that you expect to be exactly identical (initializing a BertForSequenceClassification model from a BertForSequenceClassification model).\n"
     ]
    },
    {
     "data": {
      "text/plain": [
       "'\\nfor i in range(scores.shape[0]):\\n    l = config.id2label[ranking[i]]\\n    s = scores[ranking[i]]\\n    print(f\"{i+1}) {l} {np.round(float(s), 4)}\")\\n'"
      ]
     },
     "execution_count": 36,
     "metadata": {},
     "output_type": "execute_result"
    }
   ],
   "source": [
    "MODEL = f\"cardiffnlp/twitter-roberta-base-sentiment-latest\"\n",
    "tokenizer = AutoTokenizer.from_pretrained(MODEL)\n",
    "config = AutoConfig.from_pretrained(MODEL)\n",
    "# PT\n",
    "model = AutoModelForSequenceClassification.from_pretrained(MODEL)\n",
    "#model.save_pretrained(MODEL)\n",
    "#text = \"Covid cases are increasing fast!\"\n",
    "pred_label = []\n",
    "pred_scor = []\n",
    "def predict_pret(text):\n",
    "    #print(text)\n",
    "    text = preprocess(text)\n",
    "    encoded_input = tokenizer(text, return_tensors='pt')\n",
    "    output = model(**encoded_input)\n",
    "    scores = output[0][0].detach().numpy()\n",
    "    scores = softmax(scores)\n",
    "\n",
    "    ranking = np.argsort(scores)\n",
    "    ranking = ranking[::-1]\n",
    "    l = config.id2label[ranking[0]]\n",
    "    s = scores[ranking[0]]\n",
    "    return l,s\n",
    "\n",
    "for i,row in df_train_fil_sent_dropn.iterrows():\n",
    "    l,s = predict_pret(row['tweet_text'])\n",
    "    pred_label.append(l)\n",
    "    pred_scor.append(s)"
   ]
  },
  {
   "cell_type": "code",
   "execution_count": 21,
   "metadata": {},
   "outputs": [
    {
     "name": "stderr",
     "output_type": "stream",
     "text": [
      "Some weights of the model checkpoint at cardiffnlp/twitter-roberta-base-sentiment-latest were not used when initializing RobertaForSequenceClassification: ['roberta.pooler.dense.weight', 'roberta.pooler.dense.bias']\n",
      "- This IS expected if you are initializing RobertaForSequenceClassification from the checkpoint of a model trained on another task or with another architecture (e.g. initializing a BertForSequenceClassification model from a BertForPreTraining model).\n",
      "- This IS NOT expected if you are initializing RobertaForSequenceClassification from the checkpoint of a model that you expect to be exactly identical (initializing a BertForSequenceClassification model from a BertForSequenceClassification model).\n"
     ]
    },
    {
     "data": {
      "text/plain": [
       "'\\nfor i in range(scores.shape[0]):\\n    l = config.id2label[ranking[i]]\\n    s = scores[ranking[i]]\\n    print(f\"{i+1}) {l} {np.round(float(s), 4)}\")\\n'"
      ]
     },
     "execution_count": 21,
     "metadata": {},
     "output_type": "execute_result"
    }
   ],
   "source": [
    "#SINGLE TEXT TEST for sentiments\n",
    "MODEL = f\"cardiffnlp/twitter-roberta-base-sentiment-latest\"\n",
    "tokenizer = AutoTokenizer.from_pretrained(MODEL)\n",
    "config = AutoConfig.from_pretrained(MODEL)\n",
    "# PT\n",
    "model = AutoModelForSequenceClassification.from_pretrained(MODEL)\n",
    "#model.save_pretrained(MODEL)\n",
    "#text = \"Covid cases are increasing fast!\"\n",
    "pred_label = []\n",
    "pred_scor = []\n",
    "def predict_pret(text):\n",
    "    #print(text)\n",
    "    text = preprocess(text)\n",
    "    encoded_input = tokenizer(text, return_tensors='pt')\n",
    "    output = model(**encoded_input)\n",
    "    scores = output[0][0].detach().numpy()\n",
    "    scores = softmax(scores)\n",
    "\n",
    "    ranking = np.argsort(scores)\n",
    "    ranking = ranking[::-1]\n",
    "    l = config.id2label[ranking[0]]\n",
    "    s = scores[ranking[0]]\n",
    "    return l,s\n",
    "\n",
    "#for i,row in df_train_fil_sent_dropn.iterrows():\n",
    "l,s = predict_pret('&quot;papyrus...sort of like the ipad&quot; - nice! Lol! #SXSW Lavelle')\n",
    "pred_label.append(l)\n",
    "pred_scor.append(s)    \n",
    "'''\n",
    "for i in range(scores.shape[0]):\n",
    "    l = config.id2label[ranking[i]]\n",
    "    s = scores[ranking[i]]\n",
    "    print(f\"{i+1}) {l} {np.round(float(s), 4)}\")\n",
    "'''\n"
   ]
  },
  {
   "cell_type": "code",
   "execution_count": 63,
   "metadata": {},
   "outputs": [],
   "source": [
    "#pred_label = pd.Series(pred_label).map({'Positive emotion':0,'Negative emotion':1,'No emotion toward brand or product':2})"
   ]
  },
  {
   "cell_type": "code",
   "execution_count": 8,
   "metadata": {},
   "outputs": [],
   "source": [
    "#df_train_fil_sent_dropn = pd.read_csv(\"/home/narayana.mayya@sapt.local/projects/Antoine_coefficient_modelling/wysa/df_predicted.csv\")"
   ]
  },
  {
   "cell_type": "code",
   "execution_count": 4,
   "metadata": {},
   "outputs": [],
   "source": [
    "#df_train_fil_sent_dropn['is_there_an_emotion_directed_at_a_brand_or_product']=df_train_fil_sent_dropn['is_there_an_emotion_directed_at_a_brand_or_product'].map({'Positive emotion':'0','Negative emotion':'1','No emotion toward brand or product':'2'})\n",
    "#df_train_fil_sent_dropn['predicted_label'] = df_train_fil_sent_dropn['predicted_label'].map({'Positive emotion':'0','Negative emotion':'1','No emotion toward brand or product':'2'})"
   ]
  },
  {
   "cell_type": "code",
   "execution_count": 41,
   "metadata": {},
   "outputs": [
    {
     "data": {
      "text/plain": [
       "(8579, 3)"
      ]
     },
     "execution_count": 41,
     "metadata": {},
     "output_type": "execute_result"
    }
   ],
   "source": [
    "df_train_fil_sent_dropn.shape"
   ]
  },
  {
   "cell_type": "code",
   "execution_count": 40,
   "metadata": {},
   "outputs": [
    {
     "name": "stderr",
     "output_type": "stream",
     "text": [
      "/tmp/ipykernel_3554714/2741702983.py:1: SettingWithCopyWarning: \n",
      "A value is trying to be set on a copy of a slice from a DataFrame.\n",
      "Try using .loc[row_indexer,col_indexer] = value instead\n",
      "\n",
      "See the caveats in the documentation: https://pandas.pydata.org/pandas-docs/stable/user_guide/indexing.html#returning-a-view-versus-a-copy\n",
      "  df_train_fil_sent_dropn['predicted_label'] = pred_label\n"
     ]
    }
   ],
   "source": [
    "df_train_fil_sent_dropn['predicted_label'] = pred_label\n",
    "#df_train_fil_sent_dropn.to_csv(\"/home/narayana.mayya@sapt.local/projects/Antoine_coefficient_modelling/wysa/df_predicted.csv\")"
   ]
  },
  {
   "cell_type": "code",
   "execution_count": 42,
   "metadata": {},
   "outputs": [],
   "source": [
    "df_train_fil_sent_dropn_droppred = df_train_fil_sent_dropn.dropna()"
   ]
  },
  {
   "cell_type": "code",
   "execution_count": 49,
   "metadata": {},
   "outputs": [
    {
     "data": {
      "text/plain": [
       "(8579, 3)"
      ]
     },
     "execution_count": 49,
     "metadata": {},
     "output_type": "execute_result"
    }
   ],
   "source": [
    "df_train_fil_sent_dropn_droppred.shape"
   ]
  },
  {
   "cell_type": "code",
   "execution_count": 16,
   "metadata": {},
   "outputs": [],
   "source": [
    "#df_train_fil_sent_dropn_droppred.to_csv(\"/home/narayana.mayya@sapt.local/projects/Antoine_coefficient_modelling/wysa/df_predicted_2ndt.csv\",index=False)\n",
    "df_train_fil_sent_dropn_droppred = pd.read_csv(\"/home/narayana.mayya@sapt.local/projects/Antoine_coefficient_modelling/wysa/df_predicted_2ndt.csv\")"
   ]
  },
  {
   "cell_type": "code",
   "execution_count": 17,
   "metadata": {},
   "outputs": [
    {
     "name": "stdout",
     "output_type": "stream",
     "text": [
      "<class 'pandas.core.frame.DataFrame'>\n",
      "RangeIndex: 8579 entries, 0 to 8578\n",
      "Data columns (total 3 columns):\n",
      " #   Column                                              Non-Null Count  Dtype \n",
      "---  ------                                              --------------  ----- \n",
      " 0   tweet_text                                          8579 non-null   object\n",
      " 1   is_there_an_emotion_directed_at_a_brand_or_product  8579 non-null   object\n",
      " 2   predicted_label                                     8579 non-null   object\n",
      "dtypes: object(3)\n",
      "memory usage: 201.2+ KB\n"
     ]
    }
   ],
   "source": [
    "df_train_fil_sent_dropn_droppred.info()"
   ]
  },
  {
   "cell_type": "code",
   "execution_count": 18,
   "metadata": {},
   "outputs": [
    {
     "data": {
      "text/plain": [
       "array(['negative', 'positive', 'neutral'], dtype=object)"
      ]
     },
     "execution_count": 18,
     "metadata": {},
     "output_type": "execute_result"
    }
   ],
   "source": [
    "df_train_fil_sent_dropn_droppred['predicted_label'].unique()"
   ]
  },
  {
   "cell_type": "code",
   "execution_count": 19,
   "metadata": {},
   "outputs": [],
   "source": [
    "df_train_fil_sent_dropn_droppred['predicted_label'] = df_train_fil_sent_dropn_droppred['predicted_label'].map({'positive':'Positive emotion','negative':'Negative emotion','neutral':'No emotion toward brand or product'})"
   ]
  },
  {
   "cell_type": "code",
   "execution_count": 20,
   "metadata": {},
   "outputs": [
    {
     "name": "stdout",
     "output_type": "stream",
     "text": [
      "Accuracy: 0.67\n",
      "\n",
      "Class-wise Metrics:\n",
      "Class Positive emotion: Precision=0.55, Recall=0.69, F1 Score=0.61\n",
      "Class Negative emotion: Precision=0.39, Recall=0.56, F1 Score=0.46\n",
      "Class No emotion toward brand or product: Precision=0.81, Recall=0.68, F1 Score=0.74\n",
      "\n",
      "Micro-average Metrics:\n",
      "Micro-average Precision=0.67, Recall=0.67, F1 Score=0.67\n",
      "\n",
      "Classification Report:\n",
      "                                    precision    recall  f1-score   support\n",
      "\n",
      "                  Negative emotion       0.39      0.56      0.46       519\n",
      "No emotion toward brand or product       0.81      0.68      0.74      5388\n",
      "                  Positive emotion       0.55      0.69      0.61      2672\n",
      "\n",
      "                          accuracy                           0.67      8579\n",
      "                         macro avg       0.58      0.64      0.60      8579\n",
      "                      weighted avg       0.70      0.67      0.68      8579\n",
      "\n"
     ]
    }
   ],
   "source": [
    "y_true = df_train_fil_sent_dropn_droppred['is_there_an_emotion_directed_at_a_brand_or_product']\n",
    "y_pred = df_train_fil_sent_dropn_droppred['predicted_label']\n",
    "\n",
    "# Calculate and print accuracy\n",
    "accuracy = accuracy_score(y_true, y_pred)\n",
    "print(f'Accuracy: {accuracy:.2f}')\n",
    "\n",
    "# Calculate and print precision, recall, and F1 score for each class\n",
    "precision = precision_score(y_true, y_pred, labels=['Positive emotion','Negative emotion','No emotion toward brand or product'], average=None)\n",
    "recall = recall_score(y_true, y_pred, labels=['Positive emotion','Negative emotion','No emotion toward brand or product'], average=None)\n",
    "f1 = sklearn.metrics.f1_score(y_true, y_pred, labels=['Positive emotion','Negative emotion','No emotion toward brand or product'], average=None)\n",
    "\n",
    "print('\\nClass-wise Metrics:')\n",
    "for class_label, prec, rec, f1_score in zip(['Positive emotion','Negative emotion','No emotion toward brand or product'], precision, recall, f1):\n",
    "    print(f'Class {class_label}: Precision={prec:.2f}, Recall={rec:.2f}, F1 Score={f1_score:.2f}')\n",
    "\n",
    "# Calculate and print overall precision, recall, and F1 score (micro-average)\n",
    "micro_precision = precision_score(y_true, y_pred, labels=['Positive emotion','Negative emotion','No emotion toward brand or product'], average='micro')\n",
    "micro_recall = recall_score(y_true, y_pred, labels=['Positive emotion','Negative emotion','No emotion toward brand or product'], average='micro')\n",
    "micro_f1 = sklearn.metrics.f1_score(y_true, y_pred, labels=['Positive emotion','Negative emotion','No emotion toward brand or product'], average='micro')\n",
    "\n",
    "print('\\nMicro-average Metrics:')\n",
    "print(f'Micro-average Precision={micro_precision:.2f}, Recall={micro_recall:.2f}, F1 Score={micro_f1:.2f}')\n",
    "\n",
    "# Print classification report\n",
    "print('\\nClassification Report:')\n",
    "print(classification_report(y_true, y_pred))"
   ]
  },
  {
   "cell_type": "code",
   "execution_count": 21,
   "metadata": {},
   "outputs": [
    {
     "data": {
      "text/plain": [
       "No emotion toward brand or product    5388\n",
       "Positive emotion                      2672\n",
       "Negative emotion                       519\n",
       "Name: is_there_an_emotion_directed_at_a_brand_or_product, dtype: int64"
      ]
     },
     "execution_count": 21,
     "metadata": {},
     "output_type": "execute_result"
    }
   ],
   "source": [
    "df_train_fil_sent_dropn_droppred['is_there_an_emotion_directed_at_a_brand_or_product'].value_counts()"
   ]
  },
  {
   "cell_type": "code",
   "execution_count": 22,
   "metadata": {},
   "outputs": [
    {
     "data": {
      "image/png": "[encoded data removed]",
      "text/plain": [
       "<Figure size 600x400 with 2 Axes>"
      ]
     },
     "metadata": {},
     "output_type": "display_data"
    }
   ],
   "source": [
    "# Create confusion matrix\n",
    "cm = confusion_matrix(y_true, y_pred,labels=['Positive emotion','Negative emotion','No emotion toward brand or product'])\n",
    "\n",
    "# Plot confusion matrix using seaborn heatmap\n",
    "plt.figure(figsize=(6, 4))\n",
    "sns.heatmap(cm, annot=True, fmt='d', cmap='Blues', xticklabels=['Positive emotion','Negative emotion','No emotion toward brand or product'], yticklabels=['Positive emotion','Negative emotion','No emotion toward brand or product'])\n",
    "plt.xlabel('Predicted')\n",
    "plt.ylabel('True')\n",
    "plt.title('Confusion Matrix')\n",
    "plt.show()"
   ]
  },
  {
   "attachments": {},
   "cell_type": "markdown",
   "metadata": {},
   "source": [
    "### Test prediction"
   ]
  },
  {
   "cell_type": "code",
   "execution_count": 25,
   "metadata": {},
   "outputs": [
    {
     "name": "stderr",
     "output_type": "stream",
     "text": [
      "Some weights of the model checkpoint at cardiffnlp/twitter-roberta-base-sentiment-latest were not used when initializing RobertaForSequenceClassification: ['roberta.pooler.dense.weight', 'roberta.pooler.dense.bias']\n",
      "- This IS expected if you are initializing RobertaForSequenceClassification from the checkpoint of a model trained on another task or with another architecture (e.g. initializing a BertForSequenceClassification model from a BertForPreTraining model).\n",
      "- This IS NOT expected if you are initializing RobertaForSequenceClassification from the checkpoint of a model that you expect to be exactly identical (initializing a BertForSequenceClassification model from a BertForSequenceClassification model).\n"
     ]
    }
   ],
   "source": [
    "MODEL = f\"cardiffnlp/twitter-roberta-base-sentiment-latest\"\n",
    "tokenizer = AutoTokenizer.from_pretrained(MODEL)\n",
    "config = AutoConfig.from_pretrained(MODEL)\n",
    "# PT\n",
    "model = AutoModelForSequenceClassification.from_pretrained(MODEL)\n",
    "#model.save_pretrained(MODEL)\n",
    "#text = \"Covid cases are increasing fast!\"\n",
    "pred_label = []\n",
    "pred_scor = []\n",
    "def predict_pret(text):\n",
    "    #print(text)\n",
    "    text = preprocess(text)\n",
    "    encoded_input = tokenizer(text, return_tensors='pt')\n",
    "    output = model(**encoded_input)\n",
    "    scores = output[0][0].detach().numpy()\n",
    "    scores = softmax(scores)\n",
    "\n",
    "    ranking = np.argsort(scores)\n",
    "    ranking = ranking[::-1]\n",
    "    l = config.id2label[ranking[0]]\n",
    "    s = scores[ranking[0]]\n",
    "    return l,s\n",
    "\n",
    "for i,row in df_test.iterrows():\n",
    "    l,s = predict_pret(row['Tweet'])\n",
    "    pred_label.append(l)\n",
    "    pred_scor.append(s)"
   ]
  },
  {
   "cell_type": "code",
   "execution_count": 26,
   "metadata": {},
   "outputs": [],
   "source": [
    "df_test['predicted_label'] = pred_label"
   ]
  },
  {
   "cell_type": "code",
   "execution_count": 27,
   "metadata": {},
   "outputs": [],
   "source": [
    "#df_test.to_csv(\"/home/narayana.mayya@sapt.local/projects/Antoine_coefficient_modelling/wysa/test_result_sentiment.csv\",index=False)"
   ]
  },
  {
   "attachments": {},
   "cell_type": "markdown",
   "metadata": {},
   "source": [
    "### targeted object prediction"
   ]
  },
  {
   "cell_type": "code",
   "execution_count": 81,
   "metadata": {},
   "outputs": [],
   "source": [
    "df_train_fil_device = df_train[['tweet_text','emotion_in_tweet_is_directed_at']]"
   ]
  },
  {
   "cell_type": "code",
   "execution_count": 82,
   "metadata": {},
   "outputs": [],
   "source": [
    "df_train_fil_device_dropn = df_train_fil_device.dropna()"
   ]
  },
  {
   "cell_type": "code",
   "execution_count": 83,
   "metadata": {},
   "outputs": [
    {
     "name": "stdout",
     "output_type": "stream",
     "text": [
      "<class 'pandas.core.frame.DataFrame'>\n",
      "Int64Index: 3291 entries, 0 to 8584\n",
      "Data columns (total 2 columns):\n",
      " #   Column                           Non-Null Count  Dtype \n",
      "---  ------                           --------------  ----- \n",
      " 0   tweet_text                       3291 non-null   object\n",
      " 1   emotion_in_tweet_is_directed_at  3291 non-null   object\n",
      "dtypes: object(2)\n",
      "memory usage: 77.1+ KB\n"
     ]
    }
   ],
   "source": [
    "df_train_fil_device_dropn.info()"
   ]
  },
  {
   "cell_type": "code",
   "execution_count": 84,
   "metadata": {},
   "outputs": [
    {
     "data": {
      "text/plain": [
       "iPad                               946\n",
       "Apple                              661\n",
       "iPad or iPhone App                 470\n",
       "Google                             430\n",
       "iPhone                             297\n",
       "Other Google product or service    293\n",
       "Android App                         81\n",
       "Android                             78\n",
       "Other Apple product or service      35\n",
       "Name: emotion_in_tweet_is_directed_at, dtype: int64"
      ]
     },
     "execution_count": 84,
     "metadata": {},
     "output_type": "execute_result"
    }
   ],
   "source": [
    "df_train_fil_device_dropn['emotion_in_tweet_is_directed_at'].value_counts()"
   ]
  },
  {
   "cell_type": "code",
   "execution_count": 32,
   "metadata": {},
   "outputs": [],
   "source": [
    "from sklearn.utils.class_weight import compute_class_weight\n",
    "\n",
    "# Calculate class weights\n",
    "class_weights = compute_class_weight('balanced', classes=np.unique(df_train_fil_device_dropn['emotion_in_tweet_is_directed_at']), y=df_train_fil_device_dropn['emotion_in_tweet_is_directed_at'])\n",
    "class_weight = dict(enumerate(class_weights))\n",
    "\n",
    "# Use class_weight parameter in model.fit\n",
    "#finetuned_model.fit(train_dataset, validation_data=val_dataset, epochs=3, class_weight=class_weight)"
   ]
  },
  {
   "cell_type": "code",
   "execution_count": 33,
   "metadata": {},
   "outputs": [
    {
     "data": {
      "text/plain": [
       "array([ 4.68803419,  4.51440329,  0.55320222,  0.8503876 , 10.44761905,\n",
       "        1.2480091 ,  0.38653982,  0.77801418,  1.2312009 ])"
      ]
     },
     "execution_count": 33,
     "metadata": {},
     "output_type": "execute_result"
    }
   ],
   "source": [
    "class_weights"
   ]
  },
  {
   "cell_type": "code",
   "execution_count": 85,
   "metadata": {},
   "outputs": [
    {
     "data": {
      "text/plain": [
       "iPad                               946\n",
       "Apple                              661\n",
       "iPad or iPhone App                 470\n",
       "Google                             430\n",
       "iPhone                             297\n",
       "Other Google product or service    293\n",
       "Android App                         81\n",
       "Android                             78\n",
       "Other Apple product or service      35\n",
       "Name: emotion_in_tweet_is_directed_at, dtype: int64"
      ]
     },
     "execution_count": 85,
     "metadata": {},
     "output_type": "execute_result"
    }
   ],
   "source": [
    "df_train_fil_device_dropn['emotion_in_tweet_is_directed_at'].value_counts()"
   ]
  },
  {
   "cell_type": "code",
   "execution_count": null,
   "metadata": {},
   "outputs": [],
   "source": [
    "df_train_fil_device_dropn['emotion_in_tweet_is_directed_at']"
   ]
  },
  {
   "cell_type": "code",
   "execution_count": 87,
   "metadata": {},
   "outputs": [
    {
     "data": {
      "text/plain": [
       "array(['Android', 'Android App', 'Apple', 'Google',\n",
       "       'Other Apple product or service',\n",
       "       'Other Google product or service', 'iPad', 'iPad or iPhone App',\n",
       "       'iPhone'], dtype=object)"
      ]
     },
     "execution_count": 87,
     "metadata": {},
     "output_type": "execute_result"
    }
   ],
   "source": [
    "label_encoder.classes_"
   ]
  },
  {
   "cell_type": "code",
   "execution_count": 86,
   "metadata": {},
   "outputs": [
    {
     "name": "stderr",
     "output_type": "stream",
     "text": [
      "/tmp/ipykernel_243403/420772195.py:5: SettingWithCopyWarning: \n",
      "A value is trying to be set on a copy of a slice from a DataFrame.\n",
      "Try using .loc[row_indexer,col_indexer] = value instead\n",
      "\n",
      "See the caveats in the documentation: https://pandas.pydata.org/pandas-docs/stable/user_guide/indexing.html#returning-a-view-versus-a-copy\n",
      "  df_train_fil_device_dropn['emotion_in_tweet_is_directed_at'] = label_encoder.fit_transform(df_train_fil_device_dropn['emotion_in_tweet_is_directed_at'])\n",
      "/home/narayana.mayya@sapt.local/anaconda3/envs/tf/lib/python3.9/site-packages/sklearn/preprocessing/_encoders.py:868: FutureWarning: `sparse` was renamed to `sparse_output` in version 1.2 and will be removed in 1.4. `sparse_output` is ignored unless you leave `sparse` to its default value.\n",
      "  warnings.warn(\n"
     ]
    }
   ],
   "source": [
    "from sklearn.preprocessing import LabelEncoder, OneHotEncoder\n",
    "#os.environ[\"CUDA_VISIBLE_DEVICES\"] = \"2\"\n",
    "#with tf.device('/device:GPU:2'):\n",
    "# Use LabelEncoder to convert categorical labels to numerical labels\n",
    "label_encoder = LabelEncoder()\n",
    "df_train_fil_device_dropn['emotion_in_tweet_is_directed_at'] = label_encoder.fit_transform(df_train_fil_device_dropn['emotion_in_tweet_is_directed_at'])\n",
    "\n",
    "# Use OneHotEncoder to one-hot encode the numerical labels\n",
    "onehot_encoder = OneHotEncoder(sparse=False, categories='auto')\n",
    "encoded_labels = onehot_encoder.fit_transform(df_train_fil_device_dropn[['emotion_in_tweet_is_directed_at']])\n",
    "\n",
    "# Create a new DataFrame with one-hot encoded labels\n",
    "encoded_df = pd.DataFrame(encoded_labels, columns=[f'emotion_{i}' for i in range(encoded_labels.shape[1])])"
   ]
  },
  {
   "cell_type": "code",
   "execution_count": 40,
   "metadata": {},
   "outputs": [
    {
     "name": "stdout",
     "output_type": "stream",
     "text": [
      "<class 'pandas.core.frame.DataFrame'>\n",
      "Int64Index: 5250 entries, 0 to 3288\n",
      "Data columns (total 11 columns):\n",
      " #   Column                           Non-Null Count  Dtype  \n",
      "---  ------                           --------------  -----  \n",
      " 0   tweet_text                       3291 non-null   object \n",
      " 1   emotion_in_tweet_is_directed_at  3291 non-null   float64\n",
      " 2   emotion_0                        3291 non-null   float64\n",
      " 3   emotion_1                        3291 non-null   float64\n",
      " 4   emotion_2                        3291 non-null   float64\n",
      " 5   emotion_3                        3291 non-null   float64\n",
      " 6   emotion_4                        3291 non-null   float64\n",
      " 7   emotion_5                        3291 non-null   float64\n",
      " 8   emotion_6                        3291 non-null   float64\n",
      " 9   emotion_7                        3291 non-null   float64\n",
      " 10  emotion_8                        3291 non-null   float64\n",
      "dtypes: float64(10), object(1)\n",
      "memory usage: 492.2+ KB\n"
     ]
    }
   ],
   "source": [
    "df_train_encoded.info()"
   ]
  },
  {
   "cell_type": "code",
   "execution_count": 53,
   "metadata": {},
   "outputs": [
    {
     "data": {
      "text/html": [
       "<div>\n",
       "<style scoped>\n",
       "    .dataframe tbody tr th:only-of-type {\n",
       "        vertical-align: middle;\n",
       "    }\n",
       "\n",
       "    .dataframe tbody tr th {\n",
       "        vertical-align: top;\n",
       "    }\n",
       "\n",
       "    .dataframe thead th {\n",
       "        text-align: right;\n",
       "    }\n",
       "</style>\n",
       "<table border=\"1\" class=\"dataframe\">\n",
       "  <thead>\n",
       "    <tr style=\"text-align: right;\">\n",
       "      <th></th>\n",
       "      <th>emotion_0</th>\n",
       "      <th>emotion_1</th>\n",
       "      <th>emotion_2</th>\n",
       "      <th>emotion_3</th>\n",
       "      <th>emotion_4</th>\n",
       "      <th>emotion_5</th>\n",
       "      <th>emotion_6</th>\n",
       "      <th>emotion_7</th>\n",
       "      <th>emotion_8</th>\n",
       "    </tr>\n",
       "  </thead>\n",
       "  <tbody>\n",
       "    <tr>\n",
       "      <th>0</th>\n",
       "      <td>0.0</td>\n",
       "      <td>0.0</td>\n",
       "      <td>0.0</td>\n",
       "      <td>0.0</td>\n",
       "      <td>0.0</td>\n",
       "      <td>0.0</td>\n",
       "      <td>0.0</td>\n",
       "      <td>0.0</td>\n",
       "      <td>1.0</td>\n",
       "    </tr>\n",
       "    <tr>\n",
       "      <th>1</th>\n",
       "      <td>0.0</td>\n",
       "      <td>0.0</td>\n",
       "      <td>0.0</td>\n",
       "      <td>0.0</td>\n",
       "      <td>0.0</td>\n",
       "      <td>0.0</td>\n",
       "      <td>0.0</td>\n",
       "      <td>1.0</td>\n",
       "      <td>0.0</td>\n",
       "    </tr>\n",
       "    <tr>\n",
       "      <th>2</th>\n",
       "      <td>0.0</td>\n",
       "      <td>0.0</td>\n",
       "      <td>0.0</td>\n",
       "      <td>0.0</td>\n",
       "      <td>0.0</td>\n",
       "      <td>0.0</td>\n",
       "      <td>1.0</td>\n",
       "      <td>0.0</td>\n",
       "      <td>0.0</td>\n",
       "    </tr>\n",
       "    <tr>\n",
       "      <th>3</th>\n",
       "      <td>0.0</td>\n",
       "      <td>0.0</td>\n",
       "      <td>0.0</td>\n",
       "      <td>0.0</td>\n",
       "      <td>0.0</td>\n",
       "      <td>0.0</td>\n",
       "      <td>0.0</td>\n",
       "      <td>1.0</td>\n",
       "      <td>0.0</td>\n",
       "    </tr>\n",
       "    <tr>\n",
       "      <th>4</th>\n",
       "      <td>0.0</td>\n",
       "      <td>0.0</td>\n",
       "      <td>0.0</td>\n",
       "      <td>1.0</td>\n",
       "      <td>0.0</td>\n",
       "      <td>0.0</td>\n",
       "      <td>0.0</td>\n",
       "      <td>0.0</td>\n",
       "      <td>0.0</td>\n",
       "    </tr>\n",
       "    <tr>\n",
       "      <th>...</th>\n",
       "      <td>...</td>\n",
       "      <td>...</td>\n",
       "      <td>...</td>\n",
       "      <td>...</td>\n",
       "      <td>...</td>\n",
       "      <td>...</td>\n",
       "      <td>...</td>\n",
       "      <td>...</td>\n",
       "      <td>...</td>\n",
       "    </tr>\n",
       "    <tr>\n",
       "      <th>3286</th>\n",
       "      <td>0.0</td>\n",
       "      <td>0.0</td>\n",
       "      <td>0.0</td>\n",
       "      <td>0.0</td>\n",
       "      <td>0.0</td>\n",
       "      <td>0.0</td>\n",
       "      <td>0.0</td>\n",
       "      <td>0.0</td>\n",
       "      <td>1.0</td>\n",
       "    </tr>\n",
       "    <tr>\n",
       "      <th>3287</th>\n",
       "      <td>0.0</td>\n",
       "      <td>0.0</td>\n",
       "      <td>0.0</td>\n",
       "      <td>0.0</td>\n",
       "      <td>0.0</td>\n",
       "      <td>0.0</td>\n",
       "      <td>1.0</td>\n",
       "      <td>0.0</td>\n",
       "      <td>0.0</td>\n",
       "    </tr>\n",
       "    <tr>\n",
       "      <th>3288</th>\n",
       "      <td>0.0</td>\n",
       "      <td>0.0</td>\n",
       "      <td>0.0</td>\n",
       "      <td>0.0</td>\n",
       "      <td>0.0</td>\n",
       "      <td>1.0</td>\n",
       "      <td>0.0</td>\n",
       "      <td>0.0</td>\n",
       "      <td>0.0</td>\n",
       "    </tr>\n",
       "    <tr>\n",
       "      <th>3289</th>\n",
       "      <td>0.0</td>\n",
       "      <td>0.0</td>\n",
       "      <td>0.0</td>\n",
       "      <td>0.0</td>\n",
       "      <td>0.0</td>\n",
       "      <td>0.0</td>\n",
       "      <td>0.0</td>\n",
       "      <td>1.0</td>\n",
       "      <td>0.0</td>\n",
       "    </tr>\n",
       "    <tr>\n",
       "      <th>3290</th>\n",
       "      <td>0.0</td>\n",
       "      <td>0.0</td>\n",
       "      <td>0.0</td>\n",
       "      <td>0.0</td>\n",
       "      <td>0.0</td>\n",
       "      <td>0.0</td>\n",
       "      <td>1.0</td>\n",
       "      <td>0.0</td>\n",
       "      <td>0.0</td>\n",
       "    </tr>\n",
       "  </tbody>\n",
       "</table>\n",
       "<p>3291 rows × 9 columns</p>\n",
       "</div>"
      ],
      "text/plain": [
       "      emotion_0  emotion_1  emotion_2  emotion_3  emotion_4  emotion_5  \\\n",
       "0           0.0        0.0        0.0        0.0        0.0        0.0   \n",
       "1           0.0        0.0        0.0        0.0        0.0        0.0   \n",
       "2           0.0        0.0        0.0        0.0        0.0        0.0   \n",
       "3           0.0        0.0        0.0        0.0        0.0        0.0   \n",
       "4           0.0        0.0        0.0        1.0        0.0        0.0   \n",
       "...         ...        ...        ...        ...        ...        ...   \n",
       "3286        0.0        0.0        0.0        0.0        0.0        0.0   \n",
       "3287        0.0        0.0        0.0        0.0        0.0        0.0   \n",
       "3288        0.0        0.0        0.0        0.0        0.0        1.0   \n",
       "3289        0.0        0.0        0.0        0.0        0.0        0.0   \n",
       "3290        0.0        0.0        0.0        0.0        0.0        0.0   \n",
       "\n",
       "      emotion_6  emotion_7  emotion_8  \n",
       "0           0.0        0.0        1.0  \n",
       "1           0.0        1.0        0.0  \n",
       "2           1.0        0.0        0.0  \n",
       "3           0.0        1.0        0.0  \n",
       "4           0.0        0.0        0.0  \n",
       "...         ...        ...        ...  \n",
       "3286        0.0        0.0        1.0  \n",
       "3287        1.0        0.0        0.0  \n",
       "3288        0.0        0.0        0.0  \n",
       "3289        0.0        1.0        0.0  \n",
       "3290        1.0        0.0        0.0  \n",
       "\n",
       "[3291 rows x 9 columns]"
      ]
     },
     "execution_count": 53,
     "metadata": {},
     "output_type": "execute_result"
    }
   ],
   "source": [
    "encoded_df"
   ]
  },
  {
   "cell_type": "code",
   "execution_count": 88,
   "metadata": {},
   "outputs": [],
   "source": [
    "df_train_fil_device_dropn = df_train_fil_device_dropn.reset_index(drop=True)"
   ]
  },
  {
   "cell_type": "code",
   "execution_count": 94,
   "metadata": {},
   "outputs": [
    {
     "name": "stderr",
     "output_type": "stream",
     "text": [
      "All PyTorch model weights were used when initializing TFBertForSequenceClassification.\n",
      "\n",
      "Some weights or buffers of the TF 2.0 model TFBertForSequenceClassification were not initialized from the PyTorch model and are newly initialized: ['classifier.weight', 'classifier.bias']\n",
      "You should probably TRAIN this model on a down-stream task to be able to use it for predictions and inference.\n"
     ]
    },
    {
     "name": "stdout",
     "output_type": "stream",
     "text": [
      "Epoch 1/10\n"
     ]
    },
    {
     "name": "stderr",
     "output_type": "stream",
     "text": [
      "2023-12-17 12:58:41.446494: I tensorflow/core/common_runtime/executor.cc:1197] [/device:CPU:0] (DEBUG INFO) Executor start aborting (this does not indicate an error and you can ignore this message): INVALID_ARGUMENT: You must feed a value for placeholder tensor 'Placeholder/_2' with dtype int32 and shape [2961,61]\n",
      "\t [[{{node Placeholder/_2}}]]\n",
      "2023-12-17 12:58:41.446820: I tensorflow/core/common_runtime/executor.cc:1197] [/device:CPU:0] (DEBUG INFO) Executor start aborting (this does not indicate an error and you can ignore this message): INVALID_ARGUMENT: You must feed a value for placeholder tensor 'Placeholder/_1' with dtype int32 and shape [2961,61]\n",
      "\t [[{{node Placeholder/_1}}]]\n",
      "/home/narayana.mayya@sapt.local/anaconda3/envs/tf/lib/python3.9/site-packages/keras/engine/functional.py:639: UserWarning: Input dict contained keys ['token_type_ids'] which did not match any model input. They will be ignored by the model.\n",
      "  inputs = self._flatten_to_reference_inputs(inputs)\n"
     ]
    },
    {
     "name": "stdout",
     "output_type": "stream",
     "text": [
      "371/371 [==============================] - ETA: 0s - loss: 1.0567 - accuracy: 0.6369"
     ]
    },
    {
     "name": "stderr",
     "output_type": "stream",
     "text": [
      "2023-12-17 13:00:11.244508: I tensorflow/core/common_runtime/executor.cc:1197] [/device:CPU:0] (DEBUG INFO) Executor start aborting (this does not indicate an error and you can ignore this message): INVALID_ARGUMENT: You must feed a value for placeholder tensor 'Placeholder/_3' with dtype float and shape [330,9]\n",
      "\t [[{{node Placeholder/_3}}]]\n"
     ]
    },
    {
     "name": "stdout",
     "output_type": "stream",
     "text": [
      "371/371 [==============================] - 97s 158ms/step - loss: 1.0567 - accuracy: 0.6369 - val_loss: 0.5245 - val_accuracy: 0.8030\n",
      "Epoch 2/10\n",
      "371/371 [==============================] - 53s 142ms/step - loss: 0.4082 - accuracy: 0.8632 - val_loss: 0.4424 - val_accuracy: 0.8364\n",
      "Epoch 3/10\n",
      "371/371 [==============================] - 51s 137ms/step - loss: 0.2630 - accuracy: 0.9179 - val_loss: 0.4106 - val_accuracy: 0.8697\n",
      "Epoch 4/10\n",
      "371/371 [==============================] - 48s 129ms/step - loss: 0.2014 - accuracy: 0.9389 - val_loss: 0.4804 - val_accuracy: 0.8727\n",
      "Epoch 5/10\n",
      "371/371 [==============================] - 48s 129ms/step - loss: 0.1345 - accuracy: 0.9618 - val_loss: 0.4835 - val_accuracy: 0.8667\n",
      "Epoch 6/10\n",
      "371/371 [==============================] - 48s 129ms/step - loss: 0.0996 - accuracy: 0.9693 - val_loss: 0.5162 - val_accuracy: 0.8788\n"
     ]
    },
    {
     "name": "stderr",
     "output_type": "stream",
     "text": [
      "/home/narayana.mayya@sapt.local/anaconda3/envs/tf/lib/python3.9/site-packages/transformers/generation/tf_utils.py:465: UserWarning: `seed_generator` is deprecated and will be removed in a future version.\n",
      "  warnings.warn(\"`seed_generator` is deprecated and will be removed in a future version.\", UserWarning)\n"
     ]
    }
   ],
   "source": [
    "from tensorflow.keras.metrics import SparseCategoricalAccuracy\n",
    "from tensorflow.keras.losses import CategoricalCrossentropy\n",
    "\n",
    "\n",
    "# Concatenate the new DataFrame with the original DataFrame\n",
    "df_train_encoded = pd.concat([df_train_fil_device_dropn, encoded_df], axis=1)\n",
    "\n",
    "# Drop the original categorical label column\n",
    "df_train_encoded.drop('emotion_in_tweet_is_directed_at', axis=1, inplace=True)\n",
    "\n",
    "# Split the dataset into training and validation sets\n",
    "stratify_columns = ['emotion_0', 'emotion_1', 'emotion_2','emotion_3', 'emotion_4', 'emotion_5','emotion_6', 'emotion_7', 'emotion_8'] \n",
    "train_df, val_df = train_test_split(df_train_encoded, test_size=0.1, random_state=42, stratify=df_train_encoded[stratify_columns])\n",
    "\n",
    "# Load pre-trained BERT model and tokenizer\n",
    "model = TFBertForSequenceClassification.from_pretrained('bert-base-uncased', num_labels=9)\n",
    "tokenizer = BertTokenizer.from_pretrained('bert-base-uncased')\n",
    "\n",
    "# Tokenize and encode the training and validation datasets\n",
    "def tokenize_dataset(df):\n",
    "    return tokenizer(df['tweet_text'].tolist(), padding=True, truncation=True, return_tensors='tf')\n",
    "\n",
    "train_encodings = tokenize_dataset(train_df)\n",
    "val_encodings = tokenize_dataset(val_df)\n",
    "\n",
    "# Create TensorFlow datasets\n",
    "train_dataset = tf.data.Dataset.from_tensor_slices((dict(train_encodings), train_df.iloc[:, -9:].astype('float32')))\n",
    "val_dataset = tf.data.Dataset.from_tensor_slices((dict(val_encodings), val_df.iloc[:, -9:].astype('float32')))\n",
    "\n",
    "# Prepare the datasets\n",
    "train_dataset = train_dataset.shuffle(len(train_df)).batch(8)\n",
    "val_dataset = val_dataset.batch(8)\n",
    "\n",
    "# Set up the model\n",
    "input_ids = Input(shape=(None,), dtype=tf.int32, name=\"input_ids\")\n",
    "attention_mask = Input(shape=(None,), dtype=tf.int32, name=\"attention_mask\")\n",
    "outputs = model([input_ids, attention_mask])\n",
    "\n",
    "# Define and compile the model\n",
    "finetuned_model = Model(inputs=[input_ids, attention_mask], outputs=outputs.logits)\n",
    "optimizer = Adam(learning_rate=2e-5)\n",
    "finetuned_model.compile(optimizer=optimizer, loss=CategoricalCrossentropy(from_logits=True), metrics=['accuracy'])\n",
    "\n",
    "# Train the model\n",
    "#finetuned_model.fit(train_dataset, validation_data=val_dataset, epochs=10)\n",
    "\n",
    "# Save the fine-tuned model\n",
    "#finetuned_model.save('fine_tuned_bert_model_new')\n",
    "\n",
    "# Set up callbacks\n",
    "checkpoint_path = 'best_model_checkpoint_val_acc_{val_accuracy:.4f}_epoch_{epoch:02d}.h5'\n",
    "model_checkpoint = ModelCheckpoint(checkpoint_path, save_best_only=True, monitor='val_loss', mode='min')\n",
    "early_stopping = EarlyStopping(monitor='val_loss', patience=3, restore_best_weights=True)\n",
    "\n",
    "# Train the model with callbacks\n",
    "history = finetuned_model.fit(\n",
    "    train_dataset, \n",
    "    validation_data=val_dataset, \n",
    "    epochs=10, \n",
    "    callbacks=[model_checkpoint, early_stopping]\n",
    ")\n",
    "\n",
    "# Save the final model using Pickle\n",
    "with open('fine_tuned_bert_model_new.pkl', 'wb') as f:\n",
    "    pickle.dump(finetuned_model, f)"
   ]
  },
  {
   "cell_type": "code",
   "execution_count": 96,
   "metadata": {},
   "outputs": [
    {
     "name": "stderr",
     "output_type": "stream",
     "text": [
      "2023-12-17 13:22:27.021215: I tensorflow/core/common_runtime/executor.cc:1197] [/device:CPU:0] (DEBUG INFO) Executor start aborting (this does not indicate an error and you can ignore this message): INVALID_ARGUMENT: You must feed a value for placeholder tensor 'Placeholder/_2' with dtype int32 and shape [504,55]\n",
      "\t [[{{node Placeholder/_2}}]]\n"
     ]
    },
    {
     "name": "stdout",
     "output_type": "stream",
     "text": [
      "63/63 [==============================] - 5s 44ms/step\n",
      "                                                 Tweet predicted_labels_items\n",
      "0    Hand-Held ���Hobo�۪: Drafthouse launches ���Ho...     iPad or iPhone App\n",
      "1    Again? RT @mention Line at the Apple store is ...                  Apple\n",
      "2    Boooo! RT @mention Flipboard is developing an ...                 iPhone\n",
      "3    Thanks to @mention for publishing the news of ...     iPad or iPhone App\n",
      "4    ���@mention &quot;Apple has opened a pop-up st...                  Apple\n",
      "..                                                 ...                    ...\n",
      "499  Hey is anyone doing #sxsw signing up for the g...     iPad or iPhone App\n",
      "500  @mention you can buy my used iPad and I'll pic...                   iPad\n",
      "501  @mention You could buy a new iPad 2 tmrw at th...                   iPad\n",
      "502  Guys, if you ever plan on attending #SXSW, you...                   iPad\n",
      "503  &quot;Do you know what Apple is really good at...                  Apple\n",
      "\n",
      "[504 rows x 2 columns]\n"
     ]
    }
   ],
   "source": [
    "from tensorflow.keras.models import load_model\n",
    "from transformers import TFBertForSequenceClassification\n",
    "\n",
    "# Define the custom objects (custom layers) needed for loading the model\n",
    "custom_objects = {\"TFBertForSequenceClassification\": TFBertForSequenceClassification}\n",
    "\n",
    "# Load the best model checkpoint\n",
    "best_model = load_model('/home/narayana.mayya@sapt.local/projects/Antoine_coefficient_modelling/wysa/best_model_checkpoint_val_acc_0.8697_epoch_03.h5', custom_objects=custom_objects)\n",
    "\n",
    "# Assuming you already have the test set DataFrame (df_test) and tokenizer\n",
    "test_encodings = tokenizer(df_test['Tweet'].tolist(), padding=True, truncation=True, return_tensors='tf')\n",
    "test_dataset = tf.data.Dataset.from_tensor_slices((dict(test_encodings)))\n",
    "\n",
    "# Make predictions on the test set using the loaded model\n",
    "predictions_probabilities = best_model.predict(test_dataset.batch(8))\n",
    "\n",
    "# Convert probabilities to one-hot encoded predictions\n",
    "predictions_onehot = np.eye(9)[np.argmax(predictions_probabilities, axis=1)]\n",
    "\n",
    "# Display or save the DataFrame with predicted labels\n",
    "df_test['predicted_labels_items'] = np.argmax(predictions_probabilities, axis=1)\n",
    "df_test['predicted_labels_items'] = label_encoder.inverse_transform(df_test['predicted_labels_items'])\n",
    "\n",
    "# Display or save the DataFrame with predicted labels\n",
    "print(df_test[['Tweet', 'predicted_labels_items']])\n"
   ]
  },
  {
   "cell_type": "code",
   "execution_count": 99,
   "metadata": {},
   "outputs": [
    {
     "data": {
      "text/plain": [
       "['label_encoder.joblib']"
      ]
     },
     "execution_count": 99,
     "metadata": {},
     "output_type": "execute_result"
    }
   ],
   "source": [
    "import joblib\n",
    "# Save the LabelEncoder to a file\n",
    "joblib.dump(label_encoder, 'label_encoder.joblib')"
   ]
  },
  {
   "cell_type": "code",
   "execution_count": 97,
   "metadata": {},
   "outputs": [],
   "source": [
    "#df_test.to_csv(\"/home/narayana.mayya@sapt.local/projects/Antoine_coefficient_modelling/wysa/delete_later.csv\")"
   ]
  },
  {
   "cell_type": "code",
   "execution_count": 89,
   "metadata": {},
   "outputs": [
    {
     "name": "stderr",
     "output_type": "stream",
     "text": [
      "2023-12-17 12:10:01.966996: I tensorflow/core/common_runtime/executor.cc:1197] [/device:CPU:0] (DEBUG INFO) Executor start aborting (this does not indicate an error and you can ignore this message): INVALID_ARGUMENT: You must feed a value for placeholder tensor 'Placeholder/_2' with dtype int32 and shape [504,55]\n",
      "\t [[{{node Placeholder/_2}}]]\n",
      "/home/narayana.mayya@sapt.local/anaconda3/envs/tf/lib/python3.9/site-packages/keras/engine/functional.py:639: UserWarning: Input dict contained keys ['token_type_ids'] which did not match any model input. They will be ignored by the model.\n",
      "  inputs = self._flatten_to_reference_inputs(inputs)\n"
     ]
    },
    {
     "name": "stdout",
     "output_type": "stream",
     "text": [
      "63/63 [==============================] - 5s 46ms/step\n",
      "                                                 Tweet predicted_labels_items\n",
      "0    Hand-Held ���Hobo�۪: Drafthouse launches ���Ho...     iPad or iPhone App\n",
      "1    Again? RT @mention Line at the Apple store is ...                  Apple\n",
      "2    Boooo! RT @mention Flipboard is developing an ...                 iPhone\n",
      "3    Thanks to @mention for publishing the news of ...     iPad or iPhone App\n",
      "4    ���@mention &quot;Apple has opened a pop-up st...                   iPad\n",
      "..                                                 ...                    ...\n",
      "499  Hey is anyone doing #sxsw signing up for the g...     iPad or iPhone App\n",
      "500  @mention you can buy my used iPad and I'll pic...                   iPad\n",
      "501  @mention You could buy a new iPad 2 tmrw at th...                   iPad\n",
      "502  Guys, if you ever plan on attending #SXSW, you...                   iPad\n",
      "503  &quot;Do you know what Apple is really good at...                  Apple\n",
      "\n",
      "[504 rows x 2 columns]\n"
     ]
    }
   ],
   "source": [
    "# Load the fine-tuned BERT model\n",
    "#model = tf.keras.models.load_model('fine_tuned_bert_model')\n",
    "model = finetuned_model\n",
    "\n",
    "# Load the BERT tokenizer\n",
    "tokenizer = BertTokenizer.from_pretrained('bert-base-uncased')\n",
    "\n",
    "# Tokenize and encode the test set\n",
    "test_encodings = tokenizer(df_test['Tweet'].tolist(), padding=True, truncation=True, return_tensors='tf')\n",
    "\n",
    "# Prepare the dataset\n",
    "test_dataset = tf.data.Dataset.from_tensor_slices((dict(test_encodings)))\n",
    "\n",
    "# Make predictions on the test set\n",
    "predictions_probabilities = model.predict(test_dataset.batch(8))\n",
    "\n",
    "\n",
    "# Convert probabilities to one-hot encoded predictions\n",
    "predictions_onehot = np.eye(9)[np.argmax(predictions_probabilities, axis=1)]\n",
    "\n",
    "# Display or save the DataFrame with predicted labels\n",
    "df_test['predicted_labels_items'] = np.argmax(predictions_probabilities, axis=1)\n",
    "df_test['predicted_labels_items'] = label_encoder.inverse_transform(df_test['predicted_labels_items'])\n",
    "\n",
    "# Display or save the DataFrame with predicted labels\n",
    "print(df_test[['Tweet', 'predicted_labels_items']])"
   ]
  },
  {
   "cell_type": "code",
   "execution_count": 91,
   "metadata": {},
   "outputs": [],
   "source": [
    "#df_test.to_csv(\"/home/narayana.mayya@sapt.local/projects/Antoine_coefficient_modelling/wysa/test_result_sentiment+device.csv\",index=False)"
   ]
  },
  {
   "cell_type": "code",
   "execution_count": 3,
   "metadata": {},
   "outputs": [
    {
     "name": "stdout",
     "output_type": "stream",
     "text": [
      "Requirement already satisfied: jupyter in /home/narayana.mayya@sapt.local/anaconda3/envs/tf/lib/python3.9/site-packages (1.0.0)\n",
      "Requirement already satisfied: jupyterlab in /home/narayana.mayya@sapt.local/anaconda3/envs/tf/lib/python3.9/site-packages (4.0.9)\n",
      "Requirement already satisfied: notebook in /home/narayana.mayya@sapt.local/anaconda3/envs/tf/lib/python3.9/site-packages (7.0.6)\n",
      "Requirement already satisfied: qtconsole in /home/narayana.mayya@sapt.local/anaconda3/envs/tf/lib/python3.9/site-packages (from jupyter) (5.5.1)\n",
      "Requirement already satisfied: jupyter-console in /home/narayana.mayya@sapt.local/anaconda3/envs/tf/lib/python3.9/site-packages (from jupyter) (6.6.3)\n",
      "Requirement already satisfied: nbconvert in /home/narayana.mayya@sapt.local/anaconda3/envs/tf/lib/python3.9/site-packages (from jupyter) (7.11.0)\n",
      "Requirement already satisfied: ipykernel in /home/narayana.mayya@sapt.local/anaconda3/envs/tf/lib/python3.9/site-packages (from jupyter) (6.23.1)\n",
      "Requirement already satisfied: ipywidgets in /home/narayana.mayya@sapt.local/anaconda3/envs/tf/lib/python3.9/site-packages (from jupyter) (8.0.7)\n",
      "Requirement already satisfied: async-lru>=1.0.0 in /home/narayana.mayya@sapt.local/anaconda3/envs/tf/lib/python3.9/site-packages (from jupyterlab) (2.0.4)\n",
      "Requirement already satisfied: importlib-metadata>=4.8.3 in /home/narayana.mayya@sapt.local/anaconda3/envs/tf/lib/python3.9/site-packages (from jupyterlab) (6.6.0)\n",
      "Requirement already satisfied: jinja2>=3.0.3 in /home/narayana.mayya@sapt.local/anaconda3/envs/tf/lib/python3.9/site-packages (from jupyterlab) (3.1.2)\n",
      "Requirement already satisfied: jupyter-core in /home/narayana.mayya@sapt.local/anaconda3/envs/tf/lib/python3.9/site-packages (from jupyterlab) (5.3.0)\n",
      "Requirement already satisfied: jupyter-lsp>=2.0.0 in /home/narayana.mayya@sapt.local/anaconda3/envs/tf/lib/python3.9/site-packages (from jupyterlab) (2.2.1)\n",
      "Requirement already satisfied: jupyter-server<3,>=2.4.0 in /home/narayana.mayya@sapt.local/anaconda3/envs/tf/lib/python3.9/site-packages (from jupyterlab) (2.11.1)\n",
      "Requirement already satisfied: jupyterlab-server<3,>=2.19.0 in /home/narayana.mayya@sapt.local/anaconda3/envs/tf/lib/python3.9/site-packages (from jupyterlab) (2.25.2)\n",
      "Requirement already satisfied: notebook-shim>=0.2 in /home/narayana.mayya@sapt.local/anaconda3/envs/tf/lib/python3.9/site-packages (from jupyterlab) (0.2.3)\n",
      "Requirement already satisfied: packaging in /home/narayana.mayya@sapt.local/anaconda3/envs/tf/lib/python3.9/site-packages (from jupyterlab) (23.1)\n",
      "Requirement already satisfied: tomli in /home/narayana.mayya@sapt.local/anaconda3/envs/tf/lib/python3.9/site-packages (from jupyterlab) (2.0.1)\n",
      "Requirement already satisfied: tornado>=6.2.0 in /home/narayana.mayya@sapt.local/anaconda3/envs/tf/lib/python3.9/site-packages (from jupyterlab) (6.3.2)\n",
      "Requirement already satisfied: traitlets in /home/narayana.mayya@sapt.local/anaconda3/envs/tf/lib/python3.9/site-packages (from jupyterlab) (5.9.0)\n",
      "Requirement already satisfied: typing-extensions>=4.0.0 in /home/narayana.mayya@sapt.local/anaconda3/envs/tf/lib/python3.9/site-packages (from async-lru>=1.0.0->jupyterlab) (4.6.3)\n",
      "Requirement already satisfied: zipp>=0.5 in /home/narayana.mayya@sapt.local/anaconda3/envs/tf/lib/python3.9/site-packages (from importlib-metadata>=4.8.3->jupyterlab) (3.15.0)\n",
      "Requirement already satisfied: MarkupSafe>=2.0 in /home/narayana.mayya@sapt.local/anaconda3/envs/tf/lib/python3.9/site-packages (from jinja2>=3.0.3->jupyterlab) (2.1.3)\n",
      "Requirement already satisfied: anyio>=3.1.0 in /home/narayana.mayya@sapt.local/anaconda3/envs/tf/lib/python3.9/site-packages (from jupyter-server<3,>=2.4.0->jupyterlab) (4.1.0)\n",
      "Requirement already satisfied: argon2-cffi in /home/narayana.mayya@sapt.local/anaconda3/envs/tf/lib/python3.9/site-packages (from jupyter-server<3,>=2.4.0->jupyterlab) (23.1.0)\n",
      "Requirement already satisfied: jupyter-client>=7.4.4 in /home/narayana.mayya@sapt.local/anaconda3/envs/tf/lib/python3.9/site-packages (from jupyter-server<3,>=2.4.0->jupyterlab) (8.2.0)\n",
      "Requirement already satisfied: jupyter-events>=0.9.0 in /home/narayana.mayya@sapt.local/anaconda3/envs/tf/lib/python3.9/site-packages (from jupyter-server<3,>=2.4.0->jupyterlab) (0.9.0)\n",
      "Requirement already satisfied: jupyter-server-terminals in /home/narayana.mayya@sapt.local/anaconda3/envs/tf/lib/python3.9/site-packages (from jupyter-server<3,>=2.4.0->jupyterlab) (0.4.4)\n",
      "Requirement already satisfied: nbformat>=5.3.0 in /home/narayana.mayya@sapt.local/anaconda3/envs/tf/lib/python3.9/site-packages (from jupyter-server<3,>=2.4.0->jupyterlab) (5.9.1)\n",
      "Requirement already satisfied: overrides in /home/narayana.mayya@sapt.local/anaconda3/envs/tf/lib/python3.9/site-packages (from jupyter-server<3,>=2.4.0->jupyterlab) (7.4.0)\n",
      "Requirement already satisfied: prometheus-client in /home/narayana.mayya@sapt.local/anaconda3/envs/tf/lib/python3.9/site-packages (from jupyter-server<3,>=2.4.0->jupyterlab) (0.19.0)\n",
      "Requirement already satisfied: pyzmq>=24 in /home/narayana.mayya@sapt.local/anaconda3/envs/tf/lib/python3.9/site-packages (from jupyter-server<3,>=2.4.0->jupyterlab) (25.1.0)\n",
      "Requirement already satisfied: send2trash>=1.8.2 in /home/narayana.mayya@sapt.local/anaconda3/envs/tf/lib/python3.9/site-packages (from jupyter-server<3,>=2.4.0->jupyterlab) (1.8.2)\n",
      "Requirement already satisfied: terminado>=0.8.3 in /home/narayana.mayya@sapt.local/anaconda3/envs/tf/lib/python3.9/site-packages (from jupyter-server<3,>=2.4.0->jupyterlab) (0.18.0)\n",
      "Requirement already satisfied: websocket-client in /home/narayana.mayya@sapt.local/anaconda3/envs/tf/lib/python3.9/site-packages (from jupyter-server<3,>=2.4.0->jupyterlab) (1.6.4)\n",
      "Requirement already satisfied: platformdirs>=2.5 in /home/narayana.mayya@sapt.local/anaconda3/envs/tf/lib/python3.9/site-packages (from jupyter-core->jupyterlab) (3.5.3)\n",
      "Requirement already satisfied: babel>=2.10 in /home/narayana.mayya@sapt.local/anaconda3/envs/tf/lib/python3.9/site-packages (from jupyterlab-server<3,>=2.19.0->jupyterlab) (2.13.1)\n",
      "Requirement already satisfied: json5>=0.9.0 in /home/narayana.mayya@sapt.local/anaconda3/envs/tf/lib/python3.9/site-packages (from jupyterlab-server<3,>=2.19.0->jupyterlab) (0.9.14)\n",
      "Requirement already satisfied: jsonschema>=4.18.0 in /home/narayana.mayya@sapt.local/anaconda3/envs/tf/lib/python3.9/site-packages (from jupyterlab-server<3,>=2.19.0->jupyterlab) (4.18.3)\n",
      "Requirement already satisfied: requests>=2.31 in /home/narayana.mayya@sapt.local/anaconda3/envs/tf/lib/python3.9/site-packages (from jupyterlab-server<3,>=2.19.0->jupyterlab) (2.31.0)\n",
      "Requirement already satisfied: beautifulsoup4 in /home/narayana.mayya@sapt.local/anaconda3/envs/tf/lib/python3.9/site-packages (from nbconvert->jupyter) (4.12.2)\n",
      "Requirement already satisfied: bleach!=5.0.0 in /home/narayana.mayya@sapt.local/anaconda3/envs/tf/lib/python3.9/site-packages (from nbconvert->jupyter) (6.1.0)\n",
      "Requirement already satisfied: defusedxml in /home/narayana.mayya@sapt.local/anaconda3/envs/tf/lib/python3.9/site-packages (from nbconvert->jupyter) (0.7.1)\n",
      "Requirement already satisfied: jupyterlab-pygments in /home/narayana.mayya@sapt.local/anaconda3/envs/tf/lib/python3.9/site-packages (from nbconvert->jupyter) (0.3.0)\n",
      "Requirement already satisfied: mistune<4,>=2.0.3 in /home/narayana.mayya@sapt.local/anaconda3/envs/tf/lib/python3.9/site-packages (from nbconvert->jupyter) (3.0.2)\n",
      "Requirement already satisfied: nbclient>=0.5.0 in /home/narayana.mayya@sapt.local/anaconda3/envs/tf/lib/python3.9/site-packages (from nbconvert->jupyter) (0.9.0)\n",
      "Requirement already satisfied: pandocfilters>=1.4.1 in /home/narayana.mayya@sapt.local/anaconda3/envs/tf/lib/python3.9/site-packages (from nbconvert->jupyter) (1.5.0)\n",
      "Requirement already satisfied: pygments>=2.4.1 in /home/narayana.mayya@sapt.local/anaconda3/envs/tf/lib/python3.9/site-packages (from nbconvert->jupyter) (2.15.1)\n",
      "Requirement already satisfied: tinycss2 in /home/narayana.mayya@sapt.local/anaconda3/envs/tf/lib/python3.9/site-packages (from nbconvert->jupyter) (1.2.1)\n",
      "Requirement already satisfied: comm>=0.1.1 in /home/narayana.mayya@sapt.local/anaconda3/envs/tf/lib/python3.9/site-packages (from ipykernel->jupyter) (0.1.3)\n",
      "Requirement already satisfied: debugpy>=1.6.5 in /home/narayana.mayya@sapt.local/anaconda3/envs/tf/lib/python3.9/site-packages (from ipykernel->jupyter) (1.6.7)\n",
      "Requirement already satisfied: ipython>=7.23.1 in /home/narayana.mayya@sapt.local/anaconda3/envs/tf/lib/python3.9/site-packages (from ipykernel->jupyter) (8.14.0)\n",
      "Requirement already satisfied: matplotlib-inline>=0.1 in /home/narayana.mayya@sapt.local/anaconda3/envs/tf/lib/python3.9/site-packages (from ipykernel->jupyter) (0.1.6)\n",
      "Requirement already satisfied: nest-asyncio in /home/narayana.mayya@sapt.local/anaconda3/envs/tf/lib/python3.9/site-packages (from ipykernel->jupyter) (1.5.6)\n",
      "Requirement already satisfied: psutil in /home/narayana.mayya@sapt.local/anaconda3/envs/tf/lib/python3.9/site-packages (from ipykernel->jupyter) (5.9.5)\n",
      "Requirement already satisfied: widgetsnbextension~=4.0.7 in /home/narayana.mayya@sapt.local/anaconda3/envs/tf/lib/python3.9/site-packages (from ipywidgets->jupyter) (4.0.8)\n",
      "Requirement already satisfied: jupyterlab-widgets~=3.0.7 in /home/narayana.mayya@sapt.local/anaconda3/envs/tf/lib/python3.9/site-packages (from ipywidgets->jupyter) (3.0.8)\n",
      "Requirement already satisfied: prompt-toolkit>=3.0.30 in /home/narayana.mayya@sapt.local/anaconda3/envs/tf/lib/python3.9/site-packages (from jupyter-console->jupyter) (3.0.38)\n",
      "Requirement already satisfied: qtpy>=2.4.0 in /home/narayana.mayya@sapt.local/anaconda3/envs/tf/lib/python3.9/site-packages (from qtconsole->jupyter) (2.4.1)\n",
      "Requirement already satisfied: idna>=2.8 in /home/narayana.mayya@sapt.local/anaconda3/envs/tf/lib/python3.9/site-packages (from anyio>=3.1.0->jupyter-server<3,>=2.4.0->jupyterlab) (3.4)\n",
      "Requirement already satisfied: sniffio>=1.1 in /home/narayana.mayya@sapt.local/anaconda3/envs/tf/lib/python3.9/site-packages (from anyio>=3.1.0->jupyter-server<3,>=2.4.0->jupyterlab) (1.3.0)\n",
      "Requirement already satisfied: exceptiongroup>=1.0.2 in /home/narayana.mayya@sapt.local/anaconda3/envs/tf/lib/python3.9/site-packages (from anyio>=3.1.0->jupyter-server<3,>=2.4.0->jupyterlab) (1.2.0)\n",
      "Requirement already satisfied: six>=1.9.0 in /home/narayana.mayya@sapt.local/anaconda3/envs/tf/lib/python3.9/site-packages (from bleach!=5.0.0->nbconvert->jupyter) (1.16.0)\n",
      "Requirement already satisfied: webencodings in /home/narayana.mayya@sapt.local/anaconda3/envs/tf/lib/python3.9/site-packages (from bleach!=5.0.0->nbconvert->jupyter) (0.5.1)\n",
      "Requirement already satisfied: backcall in /home/narayana.mayya@sapt.local/anaconda3/envs/tf/lib/python3.9/site-packages (from ipython>=7.23.1->ipykernel->jupyter) (0.2.0)\n",
      "Requirement already satisfied: decorator in /home/narayana.mayya@sapt.local/anaconda3/envs/tf/lib/python3.9/site-packages (from ipython>=7.23.1->ipykernel->jupyter) (5.1.1)\n",
      "Requirement already satisfied: jedi>=0.16 in /home/narayana.mayya@sapt.local/anaconda3/envs/tf/lib/python3.9/site-packages (from ipython>=7.23.1->ipykernel->jupyter) (0.18.2)\n",
      "Requirement already satisfied: pickleshare in /home/narayana.mayya@sapt.local/anaconda3/envs/tf/lib/python3.9/site-packages (from ipython>=7.23.1->ipykernel->jupyter) (0.7.5)\n",
      "Requirement already satisfied: stack-data in /home/narayana.mayya@sapt.local/anaconda3/envs/tf/lib/python3.9/site-packages (from ipython>=7.23.1->ipykernel->jupyter) (0.6.2)\n",
      "Requirement already satisfied: pexpect>4.3 in /home/narayana.mayya@sapt.local/anaconda3/envs/tf/lib/python3.9/site-packages (from ipython>=7.23.1->ipykernel->jupyter) (4.8.0)\n",
      "Requirement already satisfied: attrs>=22.2.0 in /home/narayana.mayya@sapt.local/anaconda3/envs/tf/lib/python3.9/site-packages (from jsonschema>=4.18.0->jupyterlab-server<3,>=2.19.0->jupyterlab) (23.1.0)\n",
      "Requirement already satisfied: jsonschema-specifications>=2023.03.6 in /home/narayana.mayya@sapt.local/anaconda3/envs/tf/lib/python3.9/site-packages (from jsonschema>=4.18.0->jupyterlab-server<3,>=2.19.0->jupyterlab) (2023.6.1)\n",
      "Requirement already satisfied: referencing>=0.28.4 in /home/narayana.mayya@sapt.local/anaconda3/envs/tf/lib/python3.9/site-packages (from jsonschema>=4.18.0->jupyterlab-server<3,>=2.19.0->jupyterlab) (0.29.1)\n",
      "Requirement already satisfied: rpds-py>=0.7.1 in /home/narayana.mayya@sapt.local/anaconda3/envs/tf/lib/python3.9/site-packages (from jsonschema>=4.18.0->jupyterlab-server<3,>=2.19.0->jupyterlab) (0.8.11)\n",
      "Requirement already satisfied: python-dateutil>=2.8.2 in /home/narayana.mayya@sapt.local/anaconda3/envs/tf/lib/python3.9/site-packages (from jupyter-client>=7.4.4->jupyter-server<3,>=2.4.0->jupyterlab) (2.8.2)\n",
      "Requirement already satisfied: python-json-logger>=2.0.4 in /home/narayana.mayya@sapt.local/anaconda3/envs/tf/lib/python3.9/site-packages (from jupyter-events>=0.9.0->jupyter-server<3,>=2.4.0->jupyterlab) (2.0.7)\n",
      "Requirement already satisfied: pyyaml>=5.3 in /home/narayana.mayya@sapt.local/anaconda3/envs/tf/lib/python3.9/site-packages (from jupyter-events>=0.9.0->jupyter-server<3,>=2.4.0->jupyterlab) (6.0.1)\n",
      "Requirement already satisfied: rfc3339-validator in /home/narayana.mayya@sapt.local/anaconda3/envs/tf/lib/python3.9/site-packages (from jupyter-events>=0.9.0->jupyter-server<3,>=2.4.0->jupyterlab) (0.1.4)\n",
      "Requirement already satisfied: rfc3986-validator>=0.1.1 in /home/narayana.mayya@sapt.local/anaconda3/envs/tf/lib/python3.9/site-packages (from jupyter-events>=0.9.0->jupyter-server<3,>=2.4.0->jupyterlab) (0.1.1)\n",
      "Requirement already satisfied: fastjsonschema in /home/narayana.mayya@sapt.local/anaconda3/envs/tf/lib/python3.9/site-packages (from nbformat>=5.3.0->jupyter-server<3,>=2.4.0->jupyterlab) (2.17.1)\n",
      "Requirement already satisfied: wcwidth in /home/narayana.mayya@sapt.local/anaconda3/envs/tf/lib/python3.9/site-packages (from prompt-toolkit>=3.0.30->jupyter-console->jupyter) (0.2.6)\n",
      "Requirement already satisfied: charset-normalizer<4,>=2 in /home/narayana.mayya@sapt.local/anaconda3/envs/tf/lib/python3.9/site-packages (from requests>=2.31->jupyterlab-server<3,>=2.19.0->jupyterlab) (3.1.0)\n",
      "Requirement already satisfied: urllib3<3,>=1.21.1 in /home/narayana.mayya@sapt.local/anaconda3/envs/tf/lib/python3.9/site-packages (from requests>=2.31->jupyterlab-server<3,>=2.19.0->jupyterlab) (1.26.16)\n",
      "Requirement already satisfied: certifi>=2017.4.17 in /home/narayana.mayya@sapt.local/anaconda3/envs/tf/lib/python3.9/site-packages (from requests>=2.31->jupyterlab-server<3,>=2.19.0->jupyterlab) (2023.5.7)\n",
      "Requirement already satisfied: ptyprocess in /home/narayana.mayya@sapt.local/anaconda3/envs/tf/lib/python3.9/site-packages (from terminado>=0.8.3->jupyter-server<3,>=2.4.0->jupyterlab) (0.7.0)\n",
      "Requirement already satisfied: argon2-cffi-bindings in /home/narayana.mayya@sapt.local/anaconda3/envs/tf/lib/python3.9/site-packages (from argon2-cffi->jupyter-server<3,>=2.4.0->jupyterlab) (21.2.0)\n",
      "Requirement already satisfied: soupsieve>1.2 in /home/narayana.mayya@sapt.local/anaconda3/envs/tf/lib/python3.9/site-packages (from beautifulsoup4->nbconvert->jupyter) (2.5)\n",
      "Requirement already satisfied: parso<0.9.0,>=0.8.0 in /home/narayana.mayya@sapt.local/anaconda3/envs/tf/lib/python3.9/site-packages (from jedi>=0.16->ipython>=7.23.1->ipykernel->jupyter) (0.8.3)\n",
      "Requirement already satisfied: fqdn in /home/narayana.mayya@sapt.local/anaconda3/envs/tf/lib/python3.9/site-packages (from jsonschema>=4.18.0->jupyterlab-server<3,>=2.19.0->jupyterlab) (1.5.1)\n",
      "Requirement already satisfied: isoduration in /home/narayana.mayya@sapt.local/anaconda3/envs/tf/lib/python3.9/site-packages (from jsonschema>=4.18.0->jupyterlab-server<3,>=2.19.0->jupyterlab) (20.11.0)\n",
      "Requirement already satisfied: jsonpointer>1.13 in /home/narayana.mayya@sapt.local/anaconda3/envs/tf/lib/python3.9/site-packages (from jsonschema>=4.18.0->jupyterlab-server<3,>=2.19.0->jupyterlab) (2.4)\n",
      "Requirement already satisfied: uri-template in /home/narayana.mayya@sapt.local/anaconda3/envs/tf/lib/python3.9/site-packages (from jsonschema>=4.18.0->jupyterlab-server<3,>=2.19.0->jupyterlab) (1.3.0)\n",
      "Requirement already satisfied: webcolors>=1.11 in /home/narayana.mayya@sapt.local/anaconda3/envs/tf/lib/python3.9/site-packages (from jsonschema>=4.18.0->jupyterlab-server<3,>=2.19.0->jupyterlab) (1.13)\n",
      "Requirement already satisfied: cffi>=1.0.1 in /home/narayana.mayya@sapt.local/anaconda3/envs/tf/lib/python3.9/site-packages (from argon2-cffi-bindings->argon2-cffi->jupyter-server<3,>=2.4.0->jupyterlab) (1.16.0)\n",
      "Requirement already satisfied: executing>=1.2.0 in /home/narayana.mayya@sapt.local/anaconda3/envs/tf/lib/python3.9/site-packages (from stack-data->ipython>=7.23.1->ipykernel->jupyter) (1.2.0)\n",
      "Requirement already satisfied: asttokens>=2.1.0 in /home/narayana.mayya@sapt.local/anaconda3/envs/tf/lib/python3.9/site-packages (from stack-data->ipython>=7.23.1->ipykernel->jupyter) (2.2.1)\n",
      "Requirement already satisfied: pure-eval in /home/narayana.mayya@sapt.local/anaconda3/envs/tf/lib/python3.9/site-packages (from stack-data->ipython>=7.23.1->ipykernel->jupyter) (0.2.2)\n",
      "Requirement already satisfied: pycparser in /home/narayana.mayya@sapt.local/anaconda3/envs/tf/lib/python3.9/site-packages (from cffi>=1.0.1->argon2-cffi-bindings->argon2-cffi->jupyter-server<3,>=2.4.0->jupyterlab) (2.21)\n",
      "Requirement already satisfied: arrow>=0.15.0 in /home/narayana.mayya@sapt.local/anaconda3/envs/tf/lib/python3.9/site-packages (from isoduration->jsonschema>=4.18.0->jupyterlab-server<3,>=2.19.0->jupyterlab) (1.3.0)\n",
      "Requirement already satisfied: types-python-dateutil>=2.8.10 in /home/narayana.mayya@sapt.local/anaconda3/envs/tf/lib/python3.9/site-packages (from arrow>=0.15.0->isoduration->jsonschema>=4.18.0->jupyterlab-server<3,>=2.19.0->jupyterlab) (2.8.19.14)\n"
     ]
    }
   ],
   "source": [
    "#!pip install --upgrade jupyter jupyterlab notebook"
   ]
  },
  {
   "attachments": {},
   "cell_type": "markdown",
   "metadata": {},
   "source": [
    "#Explain your approach to evaluate the trained model.\n",
    "    - for sentiment classification - accuracy (0.67), precision, recall, micro f1 score (0.67)\n",
    "    - for item classification - accuracy , precision, recall, f1 score"
   ]
  },
  {
   "cell_type": "code",
   "execution_count": 61,
   "metadata": {},
   "outputs": [
    {
     "name": "stderr",
     "output_type": "stream",
     "text": [
      "huggingface/tokenizers: The current process just got forked, after parallelism has already been used. Disabling parallelism to avoid deadlocks...\n",
      "To disable this warning, you can either:\n",
      "\t- Avoid using `tokenizers` before the fork if possible\n",
      "\t- Explicitly set the environment variable TOKENIZERS_PARALLELISM=(true | false)\n"
     ]
    },
    {
     "name": "stdout",
     "output_type": "stream",
     "text": [
      "Requirement already satisfied: requests in /home/narayana.mayya@sapt.local/anaconda3/envs/tf/lib/python3.9/site-packages (2.31.0)\n",
      "Requirement already satisfied: charset-normalizer<4,>=2 in /home/narayana.mayya@sapt.local/anaconda3/envs/tf/lib/python3.9/site-packages (from requests) (3.1.0)\n",
      "Requirement already satisfied: idna<4,>=2.5 in /home/narayana.mayya@sapt.local/anaconda3/envs/tf/lib/python3.9/site-packages (from requests) (3.4)\n",
      "Requirement already satisfied: urllib3<3,>=1.21.1 in /home/narayana.mayya@sapt.local/anaconda3/envs/tf/lib/python3.9/site-packages (from requests) (1.26.16)\n",
      "Requirement already satisfied: certifi>=2017.4.17 in /home/narayana.mayya@sapt.local/anaconda3/envs/tf/lib/python3.9/site-packages (from requests) (2023.5.7)\n"
     ]
    }
   ],
   "source": [
    "#!pip install --upgrade requests"
   ]
  },
  {
   "attachments": {},
   "cell_type": "markdown",
   "metadata": {},
   "source": [
    "#Propose ways to improve the dataset further.\n",
    "- manual labelling has to be improved.\n",
    "- Item classification will require lot more data as there can be large number of items."
   ]
  }
 ],
 "metadata": {
  "kernelspec": {
   "display_name": "Python 3",
   "language": "python",
   "name": "python3"
  },
  "language_info": {
   "codemirror_mode": {
    "name": "ipython",
    "version": 3
   },
   "file_extension": ".py",
   "mimetype": "text/x-python",
   "name": "python",
   "nbconvert_exporter": "python",
   "pygments_lexer": "ipython3",
   "version": "3.9.16"
  },
  "orig_nbformat": 4
 },
 "nbformat": 4,
 "nbformat_minor": 2
}
